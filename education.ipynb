{
 "cells": [
  {
   "cell_type": "code",
   "execution_count": 9,
   "metadata": {},
   "outputs": [],
   "source": [
    "import numpy as np\n",
    "import pandas as pd\n",
    "\n",
    "from functools import reduce\n",
    "\n",
    "from sklearn.preprocessing import StandardScaler\n",
    "from sklearn.decomposition import PCA\n",
    "from sklearn.manifold import TSNE\n",
    "\n",
    "import seaborn as sns\n",
    "\n",
    "import matplotlib.pyplot as plt"
   ]
  },
  {
   "cell_type": "code",
   "execution_count": 10,
   "metadata": {},
   "outputs": [],
   "source": [
    "DATA_PATH = ''\n",
    "\n",
    "datasets = []"
   ]
  },
  {
   "cell_type": "code",
   "execution_count": 11,
   "metadata": {},
   "outputs": [
    {
     "name": "stdout",
     "output_type": "stream",
     "text": [
      "                                               country  completed_education\n",
      "2                                            Mauritius             95.45147\n",
      "9                                           Kazakhstan             97.14414\n",
      "18                                             Denmark             99.69314\n",
      "23   United Kingdom of Great Britain and Northern I...             99.82562\n",
      "38                                        Sierra Leone             39.90512\n",
      "..                                                 ...                  ...\n",
      "955                                            Andorra             67.35340\n",
      "958         China, Macao Special Administrative Region             99.07706\n",
      "969                                            Vanuatu             84.76444\n",
      "978                                         Montenegro             99.05250\n",
      "988                           United States of America             90.55491\n",
      "\n",
      "[134 rows x 2 columns]\n"
     ]
    }
   ],
   "source": [
    "file_name = 'survival_rate_in_primary_education.csv'\n",
    "education_df = pd.read_csv(f'{DATA_PATH}{file_name}', usecols=['country', 'Indicator', 'completed_education'])\n",
    "\n",
    "# Only keep rows for completed total primary education\n",
    "filtered_education_df = education_df[education_df['Indicator'] == 'Survival rate to the last grade of primary education, both sexes (%)']\n",
    "filtered_education_df = filtered_education_df.drop(columns='Indicator')\n",
    "\n",
    "datasets.append(filtered_education_df)\n",
    "\n",
    "print(filtered_education_df)"
   ]
  },
  {
   "cell_type": "code",
   "execution_count": 12,
   "metadata": {},
   "outputs": [
    {
     "name": "stdout",
     "output_type": "stream",
     "text": [
      "       country  completed_education\n",
      "18     Denmark             99.69314\n",
      "56   Lithuania             98.97025\n",
      "84      Latvia             96.97023\n",
      "121     Sweden             99.70293\n",
      "284    Estonia             99.77333\n",
      "386    Finland             99.49342\n",
      "400   Slovakia             99.19364\n",
      "479    Austria             99.61435\n",
      "488     Cyprus             97.21621\n",
      "506     Greece             99.45499\n",
      "523      Malta             98.04337\n",
      "670   Bulgaria             95.83481\n",
      "708    Croatia             98.46626\n",
      "714      Spain             99.77982\n",
      "734   Slovenia             99.56310\n",
      "854    Czechia             99.57872\n",
      "870    Hungary             98.84346\n",
      "895    Romania             95.12516\n",
      "902      Italy             99.86678\n"
     ]
    }
   ],
   "source": [
    "# Load the EU countries data (3-letter Country Code)\n",
    "eu_countries_df = pd.read_csv(f'{DATA_PATH}{\"EU_countries.csv\"}')\n",
    "eu_country_names = eu_countries_df['Country Name'].tolist()\n",
    "\n",
    "# Filter education data to keep only EU countries\n",
    "filtered_education_df = filtered_education_df[filtered_education_df['country'].isin(eu_country_names)]\n",
    "\n",
    "# Append the filtered DataFrame to the datasets list\n",
    "datasets.append(filtered_education_df)\n",
    "\n",
    "# Print the filtered DataFrame\n",
    "print(filtered_education_df)"
   ]
  },
  {
   "cell_type": "code",
   "execution_count": 15,
   "metadata": {},
   "outputs": [
    {
     "name": "stdout",
     "output_type": "stream",
     "text": [
      "       country  completed_education  Normalized_Value\n",
      "18     Denmark             99.69314          0.963380\n",
      "56   Lithuania             98.97025          0.810923\n",
      "84      Latvia             96.97023          0.389122\n",
      "121     Sweden             99.70293          0.965444\n",
      "284    Estonia             99.77333          0.980292\n",
      "386    Finland             99.49342          0.921259\n",
      "400   Slovakia             99.19364          0.858036\n",
      "479    Austria             99.61435          0.946763\n",
      "488     Cyprus             97.21621          0.440999\n",
      "506     Greece             99.45499          0.913154\n",
      "523      Malta             98.04337          0.615446\n",
      "670   Bulgaria             95.83481          0.149664\n",
      "708    Croatia             98.46626          0.704633\n",
      "714      Spain             99.77982          0.981660\n",
      "734   Slovenia             99.56310          0.935954\n",
      "854    Czechia             99.57872          0.939249\n",
      "870    Hungary             98.84346          0.784183\n",
      "895    Romania             95.12516          0.000000\n",
      "902      Italy             99.86678          1.000000\n"
     ]
    },
    {
     "name": "stderr",
     "output_type": "stream",
     "text": [
      "C:\\Users\\Axel\\AppData\\Local\\Temp\\ipykernel_10280\\487784226.py:14: SettingWithCopyWarning: \n",
      "A value is trying to be set on a copy of a slice from a DataFrame.\n",
      "Try using .loc[row_indexer,col_indexer] = value instead\n",
      "\n",
      "See the caveats in the documentation: https://pandas.pydata.org/pandas-docs/stable/user_guide/indexing.html#returning-a-view-versus-a-copy\n",
      "  filtered_education_df['Normalized_Value'] = min_max_scaler.fit_transform(filtered_education_df[['completed_education']])\n"
     ]
    }
   ],
   "source": [
    "import pandas as pd\n",
    "from sklearn.preprocessing import MinMaxScaler, StandardScaler\n",
    "\n",
    "# Assuming 'filtered_education_df' contains the data you want to normalize\n",
    "\n",
    "# Example data\n",
    "# filtered_education_df = pd.DataFrame({\n",
    "#     'Country': ['SWE', 'DEU', 'FRA'],\n",
    "#     'Value': [98.8, 95.5, 99.0]\n",
    "# })\n",
    "\n",
    "# Min-Max Normalization\n",
    "min_max_scaler = MinMaxScaler()\n",
    "filtered_education_df['Normalized_Value'] = min_max_scaler.fit_transform(filtered_education_df[['completed_education']])\n",
    "\n",
    "# Print the DataFrame with normalized values\n",
    "print(filtered_education_df)\n"
   ]
  },
  {
   "cell_type": "code",
   "execution_count": null,
   "metadata": {},
   "outputs": [],
   "source": []
  }
 ],
 "metadata": {
  "kernelspec": {
   "display_name": "Python 3",
   "language": "python",
   "name": "python3"
  },
  "language_info": {
   "codemirror_mode": {
    "name": "ipython",
    "version": 3
   },
   "file_extension": ".py",
   "mimetype": "text/x-python",
   "name": "python",
   "nbconvert_exporter": "python",
   "pygments_lexer": "ipython3",
   "version": "3.12.0"
  }
 },
 "nbformat": 4,
 "nbformat_minor": 2
}
