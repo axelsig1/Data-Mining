{
 "cells": [
  {
   "cell_type": "code",
   "execution_count": 10,
   "metadata": {},
   "outputs": [
    {
     "name": "stdout",
     "output_type": "stream",
     "text": [
      "Number of rows before removing duplicates: 9999\n",
      "Number of rows after removing duplicates: 9816\n",
      "Number of records: 9816\n",
      "Number of attributes: 500\n"
     ]
    }
   ],
   "source": [
    "import pandas as pd\n",
    "\n",
    "# Read the data\n",
    "df = pd.read_csv('www.csv', sep='\\t')\n",
    "\n",
    "# Check for missing values\n",
    "missing_data = df.isnull().sum()\n",
    "\n",
    "# Remove duplicates and keep the first occurrence\n",
    "print(f\"Number of rows before removing duplicates: {len(df)}\")\n",
    "df = df.drop_duplicates('Query', keep='first')\n",
    "df.reset_index(drop=True, inplace=True)\n",
    "print(f\"Number of rows after removing duplicates: {len(df)}\")\n",
    "\n",
    "# Count number of records and attributes (excluding User and Query)\n",
    "num_records = len(df)\n",
    "num_attributes = df.shape[1] - 2\n",
    "print(f\"Number of records: {num_records}\")\n",
    "print(f\"Number of attributes: {num_attributes}\")\n"
   ]
  },
  {
   "cell_type": "code",
   "execution_count": 11,
   "metadata": {},
   "outputs": [
    {
     "name": "stdout",
     "output_type": "stream",
     "text": [
      "Minimum support: 0.010187449062754686\n",
      "Number of frequent itemsets: 28\n",
      "Maximum size of frequent itemsets: 2\n",
      "Support of itemsets: {('high',): 0.010289323553382234, ('with',): 0.010594947025264874, ('my',): 0.011206193969030154, ('home',): 0.011511817440912795, ('you',): 0.011919315403422982, ('i',): 0.011919315403422982, ('is',): 0.01202118989405053, ('state',): 0.012530562347188265, ('what',): 0.013039934800325998, ('city',): 0.013447432762836185, ('florida',): 0.013854930725346373, ('school',): 0.015688671556642216, ('lyrics',): 0.0178280358598207, ('how',): 0.018133659331703342, ('how', 'to'): 0.013243683781581092, ('new',): 0.022616136919315404, ('http',): 0.022819885900570498, ('free',): 0.022921760391198046, ('on',): 0.023634881825590873, ('county',): 0.024144254278728607, ('a',): 0.03463732681336593, ('to',): 0.04339853300733496, ('and',): 0.055623471882640586, ('for',): 0.05633659331703342, ('in', 'the'): 0.011919315403422982, ('of', 'the'): 0.0210880195599022, ('in',): 0.08598207008964955, ('of',): 0.09729013854930725}\n"
     ]
    }
   ],
   "source": [
    "import pyfpgrowth\n",
    "\n",
    "# Convert the Query column into a list of lists\n",
    "associations = df['Query'].apply(lambda x: x.split()).tolist()\n",
    "\n",
    "# Set minimum support\n",
    "sigma = 100\n",
    "min_support = sigma / len(associations)\n",
    "print(f\"Minimum support: {min_support}\")\n",
    "\n",
    "# Find frequent itemsets\n",
    "patterns = pyfpgrowth.find_frequent_patterns(associations, sigma)\n",
    "\n",
    "# Number of frequent itemsets and maximum size\n",
    "num_frequent_itemsets = len(patterns)\n",
    "max_itemset_size = max(len(itemset) for itemset in patterns)\n",
    "print(f\"Number of frequent itemsets: {num_frequent_itemsets}\")\n",
    "print(f\"Maximum size of frequent itemsets: {max_itemset_size}\")\n",
    "\n",
    "# Calculate support\n",
    "support = {key: value / len(df) for key, value in patterns.items()}\n",
    "print(\"Support of itemsets:\", support)\n"
   ]
  },
  {
   "cell_type": "code",
   "execution_count": 12,
   "metadata": {},
   "outputs": [
    {
     "name": "stdout",
     "output_type": "stream",
     "text": [
      "Min support: 0.001, Number of frequent itemsets: 2281, Max itemset size: 10\n",
      "Min support: 0.002, Number of frequent itemsets: 484, Max itemset size: 6\n",
      "Min support: 0.003, Number of frequent itemsets: 256, Max itemset size: 5\n",
      "Min support: 0.004, Number of frequent itemsets: 156, Max itemset size: 4\n",
      "Min support: 0.005, Number of frequent itemsets: 93, Max itemset size: 3\n",
      "Min support: 0.006, Number of frequent itemsets: 70, Max itemset size: 2\n",
      "Min support: 0.007, Number of frequent itemsets: 57, Max itemset size: 2\n",
      "Min support: 0.008, Number of frequent itemsets: 46, Max itemset size: 2\n",
      "Min support: 0.009, Number of frequent itemsets: 35, Max itemset size: 2\n",
      "Min support: 0.01, Number of frequent itemsets: 29, Max itemset size: 2\n"
     ]
    }
   ],
   "source": [
    "min_support_values = [0.001, 0.002, 0.003, 0.004, 0.005, 0.006, 0.007, 0.008, 0.009, 0.01]\n",
    "\n",
    "for min_support in min_support_values:\n",
    "    support_count = min_support * len(df)\n",
    "    patterns = pyfpgrowth.find_frequent_patterns(associations, support_count)\n",
    "\n",
    "    num_frequent_itemsets = len(patterns)\n",
    "    max_itemset_size = max(len(itemset) for itemset in patterns)\n",
    "    print(f\"Min support: {min_support}, Number of frequent itemsets: {num_frequent_itemsets}, Max itemset size: {max_itemset_size}\")\n"
   ]
  },
  {
   "cell_type": "code",
   "execution_count": 13,
   "metadata": {},
   "outputs": [
    {
     "name": "stdout",
     "output_type": "stream",
     "text": [
      "Generated rules:\n"
     ]
    },
    {
     "data": {
      "text/plain": [
       "{('estate',): (('real',), 0.9166666666666666),\n",
       " ('york',): (('new',), 0.9139784946236559),\n",
       " ('sale',): (('for',), 0.8333333333333334),\n",
       " ('i', 'to'): (('the',), 2.309090909090909),\n",
       " ('the', 'to'): (('i',), 1.5301204819277108),\n",
       " ('i', 'the', 'the'): (('to',), 3.106382978723404),\n",
       " ('i', 'the', 'to'): ((), 1.3804347826086956),\n",
       " ('the', 'the', 'to'): (('i',), 2.4745762711864407),\n",
       " ('a', 'how'): (('to',), 0.9230769230769231),\n",
       " ('in', 'to'): (('the',), 1.0681818181818181),\n",
       " ('in', 'of', 'the'): ((), 0.8679245283018868),\n",
       " ('in', 'the', 'the'): (('of',), 1.0),\n",
       " ('of', 'the', 'the'): (('in',), 0.92),\n",
       " ('in', 'of'): (('the',), 0.828125)}"
      ]
     },
     "execution_count": 13,
     "metadata": {},
     "output_type": "execute_result"
    }
   ],
   "source": [
    "min_support = 0.004090909090909091\n",
    "\n",
    "support_count = min_support * num_records\n",
    "confidence = 0.8\n",
    "\n",
    "patterns = pyfpgrowth.find_frequent_patterns(associations, support_count)\n",
    "rules = pyfpgrowth.generate_association_rules(patterns, confidence)\n",
    "\n",
    "# Find an example of high-confidence rule X -> Y where Y -> X has lower confidence\n",
    "print(\"Generated rules:\")\n",
    "rules\n"
   ]
  },
  {
   "cell_type": "code",
   "execution_count": 15,
   "metadata": {},
   "outputs": [
    {
     "name": "stdout",
     "output_type": "stream",
     "text": [
      "Minimum confidence: 0.1\n",
      "Number of generated rules: 30\n",
      "\n",
      "Minimum confidence: 0.3\n",
      "Number of generated rules: 25\n",
      "\n",
      "Minimum confidence: 0.5\n",
      "Number of generated rules: 17\n",
      "\n",
      "Minimum confidence: 0.7\n",
      "Number of generated rules: 15\n",
      "\n",
      "Minimum confidence: 0.9\n",
      "Number of generated rules: 11\n",
      "\n"
     ]
    }
   ],
   "source": [
    "min_confidence_range = [0.1, 0.3, 0.5, 0.7, 0.9]\n",
    "\n",
    "for min_conf in min_confidence_range:\n",
    "    rules = pyfpgrowth.generate_association_rules(patterns, min_conf)\n",
    "    num_rules = len(rules)\n",
    "    print(f\"Minimum confidence: {min_conf}\")\n",
    "    print(f\"Number of generated rules: {num_rules}\")\n",
    "    print()"
   ]
  },
  {
   "cell_type": "code",
   "execution_count": 17,
   "metadata": {},
   "outputs": [
    {
     "ename": "IndexError",
     "evalue": "tuple index out of range",
     "output_type": "error",
     "traceback": [
      "\u001b[1;31m---------------------------------------------------------------------------\u001b[0m",
      "\u001b[1;31mIndexError\u001b[0m                                Traceback (most recent call last)",
      "Cell \u001b[1;32mIn[17], line 12\u001b[0m\n\u001b[0;32m     10\u001b[0m \u001b[38;5;66;03m# Sort rules by confidence (index 1 of the tuple) and lift (index 2 of the tuple)\u001b[39;00m\n\u001b[0;32m     11\u001b[0m sorted_by_confidence \u001b[38;5;241m=\u001b[39m \u001b[38;5;28msorted\u001b[39m(rules\u001b[38;5;241m.\u001b[39mitems(), key\u001b[38;5;241m=\u001b[39m\u001b[38;5;28;01mlambda\u001b[39;00m x: x[\u001b[38;5;241m1\u001b[39m][\u001b[38;5;241m1\u001b[39m], reverse\u001b[38;5;241m=\u001b[39m\u001b[38;5;28;01mTrue\u001b[39;00m)  \u001b[38;5;66;03m# sort by confidence\u001b[39;00m\n\u001b[1;32m---> 12\u001b[0m sorted_by_lift \u001b[38;5;241m=\u001b[39m \u001b[38;5;28;43msorted\u001b[39;49m\u001b[43m(\u001b[49m\u001b[43mrules\u001b[49m\u001b[38;5;241;43m.\u001b[39;49m\u001b[43mitems\u001b[49m\u001b[43m(\u001b[49m\u001b[43m)\u001b[49m\u001b[43m,\u001b[49m\u001b[43m \u001b[49m\u001b[43mkey\u001b[49m\u001b[38;5;241;43m=\u001b[39;49m\u001b[38;5;28;43;01mlambda\u001b[39;49;00m\u001b[43m \u001b[49m\u001b[43mx\u001b[49m\u001b[43m:\u001b[49m\u001b[43m \u001b[49m\u001b[43mx\u001b[49m\u001b[43m[\u001b[49m\u001b[38;5;241;43m1\u001b[39;49m\u001b[43m]\u001b[49m\u001b[43m[\u001b[49m\u001b[38;5;241;43m2\u001b[39;49m\u001b[43m]\u001b[49m\u001b[43m,\u001b[49m\u001b[43m \u001b[49m\u001b[43mreverse\u001b[49m\u001b[38;5;241;43m=\u001b[39;49m\u001b[38;5;28;43;01mTrue\u001b[39;49;00m\u001b[43m)\u001b[49m  \u001b[38;5;66;03m# sort by lift\u001b[39;00m\n\u001b[0;32m     14\u001b[0m \u001b[38;5;66;03m# Select top 3 interesting and unexpected rules\u001b[39;00m\n\u001b[0;32m     15\u001b[0m interesting_rules \u001b[38;5;241m=\u001b[39m sorted_by_confidence[:\u001b[38;5;241m3\u001b[39m]  \u001b[38;5;66;03m# Top 3 rules by confidence\u001b[39;00m\n",
      "Cell \u001b[1;32mIn[17], line 12\u001b[0m, in \u001b[0;36m<lambda>\u001b[1;34m(x)\u001b[0m\n\u001b[0;32m     10\u001b[0m \u001b[38;5;66;03m# Sort rules by confidence (index 1 of the tuple) and lift (index 2 of the tuple)\u001b[39;00m\n\u001b[0;32m     11\u001b[0m sorted_by_confidence \u001b[38;5;241m=\u001b[39m \u001b[38;5;28msorted\u001b[39m(rules\u001b[38;5;241m.\u001b[39mitems(), key\u001b[38;5;241m=\u001b[39m\u001b[38;5;28;01mlambda\u001b[39;00m x: x[\u001b[38;5;241m1\u001b[39m][\u001b[38;5;241m1\u001b[39m], reverse\u001b[38;5;241m=\u001b[39m\u001b[38;5;28;01mTrue\u001b[39;00m)  \u001b[38;5;66;03m# sort by confidence\u001b[39;00m\n\u001b[1;32m---> 12\u001b[0m sorted_by_lift \u001b[38;5;241m=\u001b[39m \u001b[38;5;28msorted\u001b[39m(rules\u001b[38;5;241m.\u001b[39mitems(), key\u001b[38;5;241m=\u001b[39m\u001b[38;5;28;01mlambda\u001b[39;00m x: \u001b[43mx\u001b[49m\u001b[43m[\u001b[49m\u001b[38;5;241;43m1\u001b[39;49m\u001b[43m]\u001b[49m\u001b[43m[\u001b[49m\u001b[38;5;241;43m2\u001b[39;49m\u001b[43m]\u001b[49m, reverse\u001b[38;5;241m=\u001b[39m\u001b[38;5;28;01mTrue\u001b[39;00m)  \u001b[38;5;66;03m# sort by lift\u001b[39;00m\n\u001b[0;32m     14\u001b[0m \u001b[38;5;66;03m# Select top 3 interesting and unexpected rules\u001b[39;00m\n\u001b[0;32m     15\u001b[0m interesting_rules \u001b[38;5;241m=\u001b[39m sorted_by_confidence[:\u001b[38;5;241m3\u001b[39m]  \u001b[38;5;66;03m# Top 3 rules by confidence\u001b[39;00m\n",
      "\u001b[1;31mIndexError\u001b[0m: tuple index out of range"
     ]
    }
   ],
   "source": [
    "# Set a very low support to extract a larger number of frequent patterns\n",
    "very_low_support = 0.001\n",
    "support_count = very_low_support * len(df)  # support count in terms of absolute occurrences\n",
    "patterns = pyfpgrowth.find_frequent_patterns(associations, support_count)\n",
    "\n",
    "# Generate rules with the low support frequent itemsets and given confidence\n",
    "confidence = 0.8  # example confidence level, adjust as needed\n",
    "rules = pyfpgrowth.generate_association_rules(patterns, confidence)\n",
    "\n",
    "# Sort rules by confidence (index 1 of the tuple) and lift (index 2 of the tuple)\n",
    "sorted_by_confidence = sorted(rules.items(), key=lambda x: x[1][1], reverse=True)  # sort by confidence\n",
    "sorted_by_lift = sorted(rules.items(), key=lambda x: x[1][2], reverse=True)  # sort by lift\n",
    "\n",
    "# Select top 3 interesting and unexpected rules\n",
    "interesting_rules = sorted_by_confidence[:3]  # Top 3 rules by confidence\n",
    "unexpected_rules = sorted_by_lift[:3]  # Top 3 rules by lift\n",
    "\n",
    "# Output the results\n",
    "print(\"Interesting rules (by confidence):\")\n",
    "for rule in interesting_rules:\n",
    "    print(rule)\n",
    "\n",
    "print(\"\\nUnexpected rules (by lift):\")\n",
    "for rule in unexpected_rules:\n",
    "    print(rule)\n"
   ]
  }
 ],
 "metadata": {
  "kernelspec": {
   "display_name": "Python 3",
   "language": "python",
   "name": "python3"
  },
  "language_info": {
   "codemirror_mode": {
    "name": "ipython",
    "version": 3
   },
   "file_extension": ".py",
   "mimetype": "text/x-python",
   "name": "python",
   "nbconvert_exporter": "python",
   "pygments_lexer": "ipython3",
   "version": "3.12.0"
  }
 },
 "nbformat": 4,
 "nbformat_minor": 2
}
